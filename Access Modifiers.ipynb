{
 "cells": [
  {
   "cell_type": "markdown",
   "id": "81c35b13-4efc-4017-9b08-543c644cb854",
   "metadata": {},
   "source": [
    "<center> <h1> <b>Access Modifiers"
   ]
  },
  {
   "cell_type": "markdown",
   "id": "e4466558-d4ac-46e7-8038-e83b310ebc3b",
   "metadata": {},
   "source": [
    "<b>Access modifiers</b> (or <i>access specifiers</i>) are keywords in object-oriented languages that set the accessibility of classes, methods, and other members. Generally there are three types of Access modifiers, <b><i>Public</i></b> , <b><i>Protected</i></b> , <b><i>Private</i></b>. Private access modifier is the most secure access modifier."
   ]
  },
  {
   "cell_type": "markdown",
   "id": "8e37b331",
   "metadata": {},
   "source": [
    "<img src=\"https://miro.medium.com/max/1400/1*AsKRlD4xL50sqSDAOYvhMA.jpeg\">"
   ]
  },
  {
   "cell_type": "markdown",
   "id": "931ad0a2",
   "metadata": {},
   "source": [
    "<h1><b>Public Access Modifier:</b></h1>"
   ]
  },
  {
   "cell_type": "markdown",
   "id": "7d705d42",
   "metadata": {},
   "source": [
    "The members of a class that are declared public are easily accessible from any part of the program. All data members and member functions of a class are public by default."
   ]
  },
  {
   "cell_type": "markdown",
   "id": "d60c79f2",
   "metadata": {},
   "source": [
    "<h2><b>Python 3</b></h2>"
   ]
  },
  {
   "cell_type": "code",
   "execution_count": 2,
   "id": "6dac94ad",
   "metadata": {},
   "outputs": [
    {
     "name": "stdout",
     "output_type": "stream",
     "text": [
      "Name :  John\n",
      "Age :  22\n"
     ]
    }
   ],
   "source": [
    "#program to illustrate public access modifier in a class\n",
    "\n",
    "class Acc:\n",
    "    \n",
    "    # constructor\n",
    "    def __init__(self, name, age):\n",
    "        \n",
    "        #public data members (instance variable)\n",
    "        self.name = name\n",
    "        self.age = age\n",
    "        \n",
    "    # public member function\n",
    "    def displayAge(self):\n",
    "        \n",
    "        #accessing public data member\n",
    "        print(\"Age : \",self.age)\n",
    "        \n",
    "# creating object of the class\n",
    "obj = Acc(\"John\",22)\n",
    "\n",
    "# accessing public data member\n",
    "print(\"Name : \",obj.name)\n",
    "\n",
    "#calling the public member function of the class\n",
    "obj.displayAge()"
   ]
  },
  {
   "cell_type": "markdown",
   "id": "43ee08af",
   "metadata": {},
   "source": [
    "<h1><b>Protected Access Modifier:</b></h1>"
   ]
  },
  {
   "cell_type": "markdown",
   "id": "1c79250b",
   "metadata": {},
   "source": [
    "The members of a class that are declared protected are only accessible to a class derived from it (child class). Data members of a class are declared protected by adding a single underscore '_' in python before the data member of that class."
   ]
  },
  {
   "cell_type": "markdown",
   "id": "5d50a761",
   "metadata": {},
   "source": [
    "<h2><b>Python 3</b></h2>"
   ]
  },
  {
   "cell_type": "code",
   "execution_count": 9,
   "id": "a3a7e16a",
   "metadata": {},
   "outputs": [
    {
     "name": "stdout",
     "output_type": "stream",
     "text": [
      "Name :  Nathan\n",
      "Roll :  123456\n"
     ]
    }
   ],
   "source": [
    "#program to illustrate protected access modifier in a class\n",
    "\n",
    "# super class or parent class\n",
    "class Student:\n",
    "    \n",
    "    #protected data members or class variable\n",
    "    _name = None \n",
    "    _roll = None\n",
    "    _branch = None\n",
    "    \n",
    "    #constructor (initializing instance variable)\n",
    "    def __init__(self, name, roll , branch):\n",
    "        self._name = name\n",
    "        self._roll = roll\n",
    "        self._branch =  branch\n",
    "        \n",
    "    #protected member function\n",
    "    def _display(self):\n",
    "        \n",
    "        #accessing protected data members\n",
    "        print(\"Roll : \",self._roll)\n",
    "\n",
    "# derived or child class\n",
    "class Pupil(Student):\n",
    "    \n",
    "    #constructor \n",
    "    def __init__(self, name, roll, branch):\n",
    "        super().__init__(name,roll,branch)\n",
    "    \n",
    "    #public member function\n",
    "    \n",
    "    def display(self):\n",
    "        \n",
    "        #accessing protected data members of super class\n",
    "        print(\"Name : \",self._name)\n",
    "        \n",
    "        #accessing protected member function of super class\n",
    "        self._display()\n",
    "        \n",
    "# creating objects of the derived class\n",
    "obj = Pupil(\"Nathan\",123456,\"CSE\")\n",
    "\n",
    "#calling public member function functions of the class\n",
    "obj.display()"
   ]
  },
  {
   "cell_type": "markdown",
   "id": "06ddfcd3",
   "metadata": {},
   "source": [
    "<h1><b>Private Access Modifier:</b></h1>"
   ]
  },
  {
   "cell_type": "markdown",
   "id": "67b90fd5",
   "metadata": {},
   "source": [
    "The members of a class that are declared private are accessible within the class only, private access modifier is the most secure access modifier. Data members of a class are declared private by adding a double underscore ‘__’ symbol before the data member of that class. "
   ]
  },
  {
   "cell_type": "markdown",
   "id": "1fec0721",
   "metadata": {},
   "source": [
    "<h2><b>Python3</b></h2>"
   ]
  },
  {
   "cell_type": "code",
   "execution_count": 14,
   "id": "f585880e",
   "metadata": {},
   "outputs": [
    {
     "name": "stdout",
     "output_type": "stream",
     "text": [
      "Name:  R2J\n",
      "Roll:  1706256\n",
      "Branch:  Information Technology\n"
     ]
    }
   ],
   "source": [
    "# program to illustrate private access modifier in a class\n",
    " \n",
    "class Geek:\n",
    "    \n",
    "     # private members\n",
    "     __name = None\n",
    "     __roll = None\n",
    "     __branch = None\n",
    " \n",
    "     # constructor\n",
    "     def __init__(self, name, roll, branch): \n",
    "          self.__name = name\n",
    "          self.__roll = roll\n",
    "          self.__branch = branch\n",
    " \n",
    "     # private member function \n",
    "     def __displayDetails(self):\n",
    "           \n",
    "           # accessing private data members\n",
    "           print(\"Name: \", self.__name)\n",
    "           print(\"Roll: \", self.__roll)\n",
    "           print(\"Branch: \", self.__branch)\n",
    "    \n",
    "     # public member function\n",
    "     def accessPrivateFunction(self):\n",
    "            \n",
    "           # accessing private member function\n",
    "           self.__displayDetails() \n",
    "\n",
    "# creating object   \n",
    "obj = Geek(\"R2J\", 1706256, \"Information Technology\")\n",
    " \n",
    "# calling public member function of the class\n",
    "obj.accessPrivateFunction()"
   ]
  },
  {
   "cell_type": "code",
   "execution_count": null,
   "id": "3bfb606f",
   "metadata": {},
   "outputs": [],
   "source": []
  }
 ],
 "metadata": {
  "kernelspec": {
   "display_name": "Python 3 (ipykernel)",
   "language": "python",
   "name": "python3"
  },
  "language_info": {
   "codemirror_mode": {
    "name": "ipython",
    "version": 3
   },
   "file_extension": ".py",
   "mimetype": "text/x-python",
   "name": "python",
   "nbconvert_exporter": "python",
   "pygments_lexer": "ipython3",
   "version": "3.10.0"
  }
 },
 "nbformat": 4,
 "nbformat_minor": 5
}
